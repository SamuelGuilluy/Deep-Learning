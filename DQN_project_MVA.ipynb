{
 "cells": [
  {
   "cell_type": "markdown",
   "metadata": {},
   "source": [
    "**You may need to install [OpenCV](https://pypi.python.org/pypi/opencv-python) and [scikit-video](http://www.scikit-video.org/stable/).**"
   ]
  },
  {
   "cell_type": "code",
   "execution_count": 1,
   "metadata": {
    "pycharm": {
     "is_executing": false
    }
   },
   "outputs": [
    {
     "name": "stderr",
     "output_type": "stream",
     "text": [
      "Using TensorFlow backend.\n",
      "C:\\Users\\Samue\\Anaconda3\\lib\\site-packages\\skvideo\\__init__.py:306: UserWarning: ffmpeg/ffprobe not found in path: C:\\Users\\Samue\\Anaconda3\\Lib\\site-packages\\skvideo\\io\n",
      "  warnings.warn(\"ffmpeg/ffprobe not found in path: \" + str(path), UserWarning)\n"
     ]
    }
   ],
   "source": [
    "import keras\n",
    "import numpy as np\n",
    "import io\n",
    "import base64\n",
    "from IPython.display import HTML\n",
    "import skvideo.io\n",
    "import cv2\n",
    "import json\n",
    "import random\n",
    "\n",
    "from keras.models import Sequential,model_from_json\n",
    "from keras.layers.core import Dense\n",
    "from keras.optimizers import sgd, Adam\n",
    "from keras.layers import Conv2D, MaxPooling2D, Activation, AveragePooling2D,Reshape,BatchNormalization, Flatten\n",
    "\n",
    "import skvideo\n",
    "path = r\"C:\\Users\\Samue\\Anaconda3\\Lib\\site-packages\\skvideo\\io\"\n",
    "path2 = r\"C:\\Users\\Samue\\Desktop\\ffmpeg\\ffmpeg-20200115-0dc0837-win64-static\\bin\"\n",
    "skvideo.setFFmpegPath(path)"
   ]
  },
  {
   "cell_type": "code",
   "execution_count": 2,
   "metadata": {
    "pycharm": {
     "is_executing": false
    }
   },
   "outputs": [
    {
     "name": "stderr",
     "output_type": "stream",
     "text": [
      "C:\\Users\\Samue\\Anaconda3\\lib\\site-packages\\skvideo\\__init__.py:306: UserWarning: ffmpeg/ffprobe not found in path: C:\\Users\\Samue\\Desktop\\ffmpeg\\ffmpeg-20200115-0dc0837-win64-static\\bin\n",
      "  warnings.warn(\"ffmpeg/ffprobe not found in path: \" + str(path), UserWarning)\n"
     ]
    }
   ],
   "source": [
    "skvideo.setFFmpegPath(path2)"
   ]
  },
  {
   "cell_type": "markdown",
   "metadata": {},
   "source": [
    "# MiniProject #3: Deep Reinforcement Learning"
   ]
  },
  {
   "cell_type": "markdown",
   "metadata": {},
   "source": [
    "__Notations__: $E_p$ is the expectation under probability $p$. Please justify each of your answer and widely comment your code."
   ]
  },
  {
   "cell_type": "markdown",
   "metadata": {},
   "source": [
    "# Context"
   ]
  },
  {
   "cell_type": "markdown",
   "metadata": {},
   "source": [
    "In a reinforcement learning algorithm, we modelize each step $t$ as an action $a_t$ obtained from a state $s_t$, i.e. $\\{(a_{t},s_{t})_{t\\leq T}\\}$ having the Markov property. We consider a discount factor $\\gamma \\in [0,1]$ that ensures convergence. The goal is to find among all the policies $\\pi$, one that maximizes the expected reward:\n",
    "\n",
    "\\begin{equation*}\n",
    "R(\\pi)=\\sum_{t\\leq T}E_{p^{\\pi}}[\\gamma^t r(s_{t},a_{t})] \\> ,\n",
    "\\end{equation*}\n",
    "\n",
    "where: \n",
    "\\begin{equation*}p^{\\pi}(a_{0},a_{1},s_{1},...,a_{T},s_{T})=p(a_{0})\\prod_{t=1}^{T}\\pi(a_{t}|s_{t})p(s_{t+1}|s_{t},a_{t}) \\> .\n",
    "\\end{equation*}\n",
    "\n",
    "We note the $Q$-function:\n",
    "\n",
    "\\begin{equation*}Q^\\pi(s,a)=E_{p^{\\pi}}[\\sum_{t\\leq T}\\gamma^{t}r(s_{t},a_{t})|s_{0}=s,a_{0}=a] \\> .\n",
    "\\end{equation*}\n",
    "\n",
    "Thus, the optimal Q function is:\n",
    "\\begin{equation*}\n",
    "Q^*(s,a)=\\max_{\\pi}Q^\\pi(s,a) \\> .\n",
    "\\end{equation*}\n",
    "\n",
    "In this project, we will apply the deep reinforcement learning techniques to a simple game: an agent will have to learn from scratch a policy that will permit it maximizing a reward."
   ]
  },
  {
   "cell_type": "markdown",
   "metadata": {},
   "source": [
    "## The environment, the agent and the game"
   ]
  },
  {
   "cell_type": "markdown",
   "metadata": {},
   "source": [
    "### The environment"
   ]
  },
  {
   "cell_type": "markdown",
   "metadata": {},
   "source": [
    "```Environment``` is an abstract class that represents the states, rewards, and actions to obtain the new state."
   ]
  },
  {
   "cell_type": "code",
   "execution_count": 3,
   "metadata": {
    "pycharm": {
     "is_executing": false
    }
   },
   "outputs": [],
   "source": [
    "class Environment(object):\n",
    "    def __init__(self):\n",
    "        pass\n",
    "\n",
    "    def act(self, act):\n",
    "        \"\"\"\n",
    "        One can act on the environment and obtain its reaction:\n",
    "        - the new state\n",
    "        - the reward of the new state\n",
    "        - should we continue the game?\n",
    "\n",
    "        :return: state, reward, game_over\n",
    "        \"\"\"\n",
    "        pass\n",
    "\n",
    "\n",
    "    def reset(self):\n",
    "        \"\"\"\n",
    "        Reinitialize the environment to a random state and returns\n",
    "        the original state\n",
    "\n",
    "        :return: state\n",
    "        \"\"\"\n",
    "        pass\n",
    "    \n",
    "    def draw(self):\n",
    "        \"\"\"\n",
    "        Visualize in the console or graphically the current state\n",
    "        \"\"\"\n",
    "        pass"
   ]
  },
  {
   "cell_type": "markdown",
   "metadata": {},
   "source": [
    "The method ```act``` allows to act on the environment at a given state $s_t$ (stored internally), via action $a_t$. The method will return the new state $s_{t+1}$, the reward $r(s_{t},a_{t})$ and determines if $t\\leq T$ (*game_over*).\n",
    "\n",
    "The method ```reset``` simply reinitializes the environment to a random state $s_0$.\n",
    "\n",
    "The method ```draw``` displays the current state $s_t$ (this is useful to check the behavior of the Agent).\n",
    "\n",
    "We modelize $s_t$ as a tensor, while $a_t$ is an integer."
   ]
  },
  {
   "cell_type": "markdown",
   "metadata": {},
   "source": [
    "### The Agent"
   ]
  },
  {
   "cell_type": "markdown",
   "metadata": {},
   "source": [
    "The goal of the ```Agent``` is to interact with the ```Environment``` by proposing actions $a_t$ obtained from a given state $s_t$ to attempt to maximize its __reward__ $r(s_t,a_t)$. We propose the following abstract class:"
   ]
  },
  {
   "cell_type": "code",
   "execution_count": 4,
   "metadata": {
    "pycharm": {
     "is_executing": false
    }
   },
   "outputs": [],
   "source": [
    "class Agent(object):\n",
    "    def __init__(self, epsilon=0.1, n_action=4):\n",
    "        self.epsilon = epsilon\n",
    "        self.n_action = n_action\n",
    "    \n",
    "    def set_epsilon(self,e):\n",
    "        self.epsilon = e\n",
    "\n",
    "    def act(self,s,train=True):\n",
    "        \"\"\" This function should return the next action to do:\n",
    "        an integer between 0 and 4 (not included) with a random exploration of epsilon\"\"\"\n",
    "        if train:\n",
    "            if np.random.rand() <= self.epsilon:\n",
    "                a = np.random.randint(0, self.n_action, size=1)[0]\n",
    "            else:\n",
    "                a = self.learned_act(s)\n",
    "        else: # in some cases, this can improve the performance.. remove it if poor performances\n",
    "            a = self.learned_act(s)\n",
    "\n",
    "        return a\n",
    "\n",
    "    def learned_act(self,s):\n",
    "        \"\"\" Act via the policy of the agent, from a given state s\n",
    "        it proposes an action a\"\"\"\n",
    "        pass\n",
    "\n",
    "    def reinforce(self, s, n_s, a, r, game_over_):\n",
    "        \"\"\" This function is the core of the learning algorithm. \n",
    "        It takes as an input the current state s_, the next state n_s_\n",
    "        the action a_ used to move from s_ to n_s_ and the reward r_.\n",
    "        \n",
    "        Its goal is to learn a policy.\n",
    "        \"\"\"\n",
    "        pass\n",
    "\n",
    "    def save(self):\n",
    "        \"\"\" This function returns basic stats if applicable: the\n",
    "        loss and/or the model\"\"\"\n",
    "        pass\n",
    "\n",
    "    def load(self):\n",
    "        \"\"\" This function allows to restore a model\"\"\"\n",
    "        pass"
   ]
  },
  {
   "cell_type": "markdown",
   "metadata": {},
   "source": [
    "***\n",
    "__Question 1__:\n",
    "Explain the function act. Why is ```epsilon``` essential?"
   ]
  },
  {
   "cell_type": "markdown",
   "metadata": {},
   "source": [
    "__Answer 1__\n",
    "\n",
    "$\\epsilon$  allow to continue to explore the other action in order to have more information on there performances and choose the best action in the future. It is essential in the  Exploration-Exploitation to continue to explore.\n",
    "In order to balance the random choices made, the player also chooses the actual best action to its knowlegde with probability 1- $\\epsilon$"
   ]
  },
  {
   "cell_type": "markdown",
   "metadata": {},
   "source": [
    "***\n",
    "### The Game"
   ]
  },
  {
   "cell_type": "markdown",
   "metadata": {},
   "source": [
    "The ```Agent``` and the ```Environment``` work in an interlaced way as in the following (take some time to understand this code as it is the core of the project)\n",
    "\n",
    "```python\n",
    "\n",
    "epoch = 300\n",
    "env = Environment()\n",
    "agent = Agent()\n",
    "\n",
    "\n",
    "# Number of won games\n",
    "score = 0\n",
    "loss = 0\n",
    "\n",
    "\n",
    "for e in range(epoch):\n",
    "    # At each epoch, we restart to a fresh game and get the initial state\n",
    "    state = env.reset()\n",
    "    # This assumes that the games will end\n",
    "    game_over = False\n",
    "\n",
    "    win = 0\n",
    "    lose = 0\n",
    "    \n",
    "    while not game_over:\n",
    "        # The agent performs an action\n",
    "        action = agent.act(state)\n",
    "\n",
    "        # Apply an action to the environment, get the next state, the reward\n",
    "        # and if the games end\n",
    "        prev_state = state\n",
    "        state, reward, game_over = env.act(action)\n",
    "\n",
    "        # Update the counters\n",
    "        if reward > 0:\n",
    "            win = win + reward\n",
    "        if reward < 0:\n",
    "            lose = lose -reward\n",
    "\n",
    "        # Apply the reinforcement strategy\n",
    "        loss = agent.reinforce(prev_state, state,  action, reward, game_over)\n",
    "\n",
    "    # Save as a mp4\n",
    "    if e % 10 == 0:\n",
    "        env.draw(e)\n",
    "\n",
    "    # Update stats\n",
    "    score += win-lose\n",
    "\n",
    "    print(\"Epoch {:03d}/{:03d} | Loss {:.4f} | Win/lose count {}/{} ({})\"\n",
    "          .format(e, epoch, loss, win, lose, win-lose))\n",
    "    agent.save()\n",
    "```"
   ]
  },
  {
   "cell_type": "markdown",
   "metadata": {},
   "source": [
    "# The game, *eat cheese*"
   ]
  },
  {
   "cell_type": "markdown",
   "metadata": {},
   "source": [
    "A rat runs on an island and tries to eat as much as possible. The island is subdivided into $N\\times N$ cells, in which there are cheese (+0.5) and poisonous cells (-1). The rat has a visibility of 2 cells (thus it can see $5^2$ cells). The rat is given a time $T$ to accumulate as much food as possible. It can perform 4 actions: going up, down, left, right. \n",
    "\n",
    "The goal is to code an agent to solve this task that will learn by trial and error. We propose the following environment:"
   ]
  },
  {
   "cell_type": "code",
   "execution_count": 5,
   "metadata": {
    "pycharm": {
     "is_executing": false
    }
   },
   "outputs": [],
   "source": [
    "class Environment(object):\n",
    "    def __init__(self, grid_size=10, max_time=500, temperature=0.1):\n",
    "        grid_size = grid_size+4\n",
    "        self.grid_size = grid_size\n",
    "        self.max_time = max_time\n",
    "        self.temperature = temperature\n",
    "\n",
    "        #board on which one plays\n",
    "        self.board = np.zeros((grid_size,grid_size))\n",
    "        self.position = np.zeros((grid_size,grid_size))\n",
    "\n",
    "        # coordinate of the cat\n",
    "        self.x = 0\n",
    "        self.y = 1\n",
    "\n",
    "        # self time\n",
    "        self.t = 0\n",
    "\n",
    "        self.scale=16\n",
    "\n",
    "        self.to_draw = np.zeros((max_time+2, grid_size*self.scale, grid_size*self.scale, 3))\n",
    "\n",
    "\n",
    "    def draw(self,e):\n",
    "        skvideo.io.vwrite(str(e) + '.mp4', self.to_draw)\n",
    "\n",
    "    def get_frame(self,t):\n",
    "        b = np.zeros((self.grid_size,self.grid_size,3))+128\n",
    "        b[self.board>0,0] = 256\n",
    "        b[self.board < 0, 2] = 256\n",
    "        b[self.x,self.y,:]=256\n",
    "        b[-2:,:,:]=0\n",
    "        b[:,-2:,:]=0\n",
    "        b[:2,:,:]=0\n",
    "        b[:,:2,:]=0\n",
    "        \n",
    "        b =  cv2.resize(b, None, fx=self.scale, fy=self.scale, interpolation=cv2.INTER_NEAREST)\n",
    "\n",
    "        self.to_draw[t,:,:,:]=b\n",
    "\n",
    "\n",
    "    def act(self, action):\n",
    "        \"\"\"This function returns the new state, reward and decides if the\n",
    "        game ends.\"\"\"\n",
    "\n",
    "        self.get_frame(int(self.t))\n",
    "\n",
    "        self.position = np.zeros((self.grid_size, self.grid_size))\n",
    "\n",
    "        self.position[0:2,:]= -1\n",
    "        self.position[:,0:2] = -1\n",
    "        self.position[-2:, :] = -1\n",
    "        self.position[-2:, :] = -1\n",
    "\n",
    "        self.position[self.x, self.y] = 1\n",
    "        if action == 0:\n",
    "            if self.x == self.grid_size-3:\n",
    "                self.x = self.x-1\n",
    "            else:\n",
    "                self.x = self.x + 1\n",
    "        elif action == 1:\n",
    "            if self.x == 2:\n",
    "                self.x = self.x+1\n",
    "            else:\n",
    "                self.x = self.x-1\n",
    "        elif action == 2:\n",
    "            if self.y == self.grid_size - 3:\n",
    "                self.y = self.y - 1\n",
    "            else:\n",
    "                self.y = self.y + 1\n",
    "        elif action == 3:\n",
    "            if self.y == 2:\n",
    "                self.y = self.y + 1\n",
    "            else:\n",
    "                self.y = self.y - 1\n",
    "        else:\n",
    "            RuntimeError('Error: action not recognized')\n",
    "\n",
    "        self.t = self.t + 1\n",
    "        reward = self.board[self.x, self.y]\n",
    "        self.board[self.x, self.y] = 0\n",
    "        game_over = self.t > self.max_time\n",
    "        state = np.concatenate((self.board.reshape(self.grid_size, self.grid_size,1),\n",
    "                        self.position.reshape(self.grid_size, self.grid_size,1)),axis=2)\n",
    "        state = state[self.x-2:self.x+3,self.y-2:self.y+3,:]\n",
    "\n",
    "        return state, reward, game_over\n",
    "\n",
    "    def reset(self):\n",
    "        \"\"\"This function resets the game and returns the initial state\"\"\"\n",
    "\n",
    "        self.x = np.random.randint(3, self.grid_size-3, size=1)[0]\n",
    "        self.y = np.random.randint(3, self.grid_size-3, size=1)[0]\n",
    "\n",
    "\n",
    "        bonus = 0.5*np.random.binomial(1,self.temperature,size=self.grid_size**2)\n",
    "        bonus = bonus.reshape(self.grid_size,self.grid_size)\n",
    "\n",
    "        malus = -1.0*np.random.binomial(1,self.temperature,size=self.grid_size**2)\n",
    "        malus = malus.reshape(self.grid_size, self.grid_size)\n",
    "\n",
    "        self.to_draw = np.zeros((self.max_time+2, self.grid_size*self.scale, self.grid_size*self.scale, 3))\n",
    "\n",
    "\n",
    "        malus[bonus>0]=0\n",
    "\n",
    "        self.board = bonus + malus\n",
    "\n",
    "        self.position = np.zeros((self.grid_size, self.grid_size))\n",
    "        self.position[0:2,:]= -1\n",
    "        self.position[:,0:2] = -1\n",
    "        self.position[-2:, :] = -1\n",
    "        self.position[-2:, :] = -1\n",
    "        self.board[self.x,self.y] = 0\n",
    "        self.t = 0\n",
    "\n",
    "        state = np.concatenate((\n",
    "                               self.board.reshape(self.grid_size, self.grid_size,1),\n",
    "                        self.position.reshape(self.grid_size, self.grid_size,1)),axis=2)\n",
    "\n",
    "        state = state[self.x - 2:self.x + 3, self.y - 2:self.y + 3, :]\n",
    "        return state"
   ]
  },
  {
   "cell_type": "markdown",
   "metadata": {},
   "source": [
    "The following elements are important because they correspond to the hyper parameters for this project:"
   ]
  },
  {
   "cell_type": "code",
   "execution_count": 6,
   "metadata": {
    "pycharm": {
     "is_executing": false
    }
   },
   "outputs": [],
   "source": [
    "# parameters\n",
    "size = 13\n",
    "T=200\n",
    "temperature=0.3\n",
    "epochs_train=10 # set small when debugging\n",
    "epochs_test=10 # set small when debugging\n",
    "\n",
    "# display videos\n",
    "def display_videos(name):\n",
    "    video = io.open(name, 'r+b').read()\n",
    "    encoded = base64.b64encode(video)\n",
    "    return '''<video alt=\"test\" controls>\n",
    "                <source src=\"data:video/mp4;base64,{0}\" type=\"video/mp4\" />\n",
    "             </video>'''.format(encoded.decode('ascii'))"
   ]
  },
  {
   "cell_type": "markdown",
   "metadata": {},
   "source": [
    "__Question 2__ Explain the use of the arrays ```position``` and ```board```."
   ]
  },
  {
   "cell_type": "markdown",
   "metadata": {},
   "source": [
    "__Answer 2__\n",
    "\n",
    "self.board is the board on which one plays, it is where we store the available rewards and when the cat is on a cell, it gets the reward : reward = self.board[self.x, self.y]\n",
    "\n",
    "Self.position gives us the position of the cat in the board with value 1, and with value -1 the case where he can't go.\n"
   ]
  },
  {
   "cell_type": "markdown",
   "metadata": {},
   "source": [
    "## Random Agent"
   ]
  },
  {
   "cell_type": "markdown",
   "metadata": {},
   "source": [
    "***\n",
    "__Question 3__ Implement a random Agent (only ```learned_act``` needs to be implemented):"
   ]
  },
  {
   "cell_type": "code",
   "execution_count": 7,
   "metadata": {
    "pycharm": {
     "is_executing": false
    }
   },
   "outputs": [],
   "source": [
    "class RandomAgent(Agent):\n",
    "    def __init__(self):\n",
    "        super(RandomAgent, self).__init__()\n",
    "        pass\n",
    "\n",
    "    def learned_act(self, s):\n",
    "        return int(np.random.randint(0,4,1))"
   ]
  },
  {
   "cell_type": "markdown",
   "metadata": {},
   "source": [
    "***\n",
    "***\n",
    "__Question 4__ Visualize the game moves. You need to fill in the following function for the evaluation:"
   ]
  },
  {
   "cell_type": "code",
   "execution_count": 8,
   "metadata": {
    "pycharm": {
     "is_executing": false
    }
   },
   "outputs": [],
   "source": [
    "def test(agent,env,epochs,prefix=''):\n",
    "    # Number of won games\n",
    "    score = 0\n",
    "        \n",
    "    for e in range(epochs):\n",
    "        \n",
    "        state = env.reset()\n",
    "        # This assumes that the games will end\n",
    "        game_over = False\n",
    "\n",
    "        win = 0\n",
    "        lose = 0\n",
    "\n",
    "        while not game_over:\n",
    "            # The agent performs an action\n",
    "            action = agent.act(state)\n",
    "\n",
    "            # Apply an action to the environment, get the next state, the reward\n",
    "            # and if the games end\n",
    "            prev_state = state\n",
    "            state, reward, game_over = env.act(action)\n",
    "            \n",
    "            # Update the counters\n",
    "            if reward > 0:\n",
    "                win = win + reward\n",
    "            if reward < 0:\n",
    "                lose = lose -reward\n",
    "\n",
    "            # Apply the reinforcement strategy\n",
    "            #loss = agent.reinforce(prev_state, state,  action, reward, game_over)\n",
    "        \n",
    "        # Save as a mp4\n",
    "        env.draw(prefix+str(e))\n",
    "\n",
    "        # Update stats\n",
    "        score = score + win-lose\n",
    "\n",
    "        print(\"Win/lose count {}/{}. Average score ({})\"\n",
    "              .format(win, lose, score/(1+e)))\n",
    "    print('Final score: '+str(score/epochs))"
   ]
  },
  {
   "cell_type": "code",
   "execution_count": 9,
   "metadata": {
    "pycharm": {
     "is_executing": false
    }
   },
   "outputs": [
    {
     "name": "stdout",
     "output_type": "stream",
     "text": [
      "Win/lose count 15.5/19.0. Average score (-3.5)\n",
      "Win/lose count 6.0/11.0. Average score (-4.25)\n",
      "Win/lose count 4.0/10.0. Average score (-4.833333333333333)\n",
      "Win/lose count 17.5/24.0. Average score (-5.25)\n",
      "Win/lose count 12.0/12.0. Average score (-4.2)\n",
      "Win/lose count 9.0/19.0. Average score (-5.166666666666667)\n",
      "Win/lose count 7.5/7.0. Average score (-4.357142857142857)\n",
      "Win/lose count 6.0/11.0. Average score (-4.4375)\n",
      "Win/lose count 7.5/17.0. Average score (-5.0)\n",
      "Win/lose count 4.5/14.0. Average score (-5.45)\n",
      "Final score: -5.45\n"
     ]
    },
    {
     "data": {
      "text/html": [
       "<video alt=\"test\" controls>\n",
       "                <source src=\"data:video/mp4;base64,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\" type=\"video/mp4\" />\n",
       "             </video>"
      ],
      "text/plain": [
       "<IPython.core.display.HTML object>"
      ]
     },
     "execution_count": 9,
     "metadata": {},
     "output_type": "execute_result"
    }
   ],
   "source": [
    "# Initialize the game\n",
    "env = Environment(grid_size=size, max_time=T,temperature=temperature)\n",
    "\n",
    "# Initialize the agent!\n",
    "agent = RandomAgent()\n",
    "\n",
    "test(agent,env,epochs_test,prefix='random')\n",
    "HTML(display_videos('random0.mp4'))"
   ]
  },
  {
   "cell_type": "markdown",
   "metadata": {},
   "source": [
    "***\n",
    "## DQN"
   ]
  },
  {
   "cell_type": "markdown",
   "metadata": {},
   "source": [
    "Let us assume here that $T=\\infty$.\n",
    "\n",
    "***\n",
    "__Question 5__ Let $\\pi$ be a policy, show that:\n",
    "\n",
    "\\begin{equation*}\n",
    "Q^{\\pi}(s,a)=E_{(s',a')\\sim p(.|s,a)}[r(s,a)+\\gamma Q^{\\pi}(s',a')]\n",
    "\\end{equation*}\n",
    "\n",
    "Then, show that for the optimal policy $\\pi^*$ (we assume its existence), the following holds: \n",
    "\n",
    "\\begin{equation*}\n",
    "Q^{*}(s,a)=E_{s'\\sim \\pi^*(.|s,a)}[r(s,a)+\\gamma\\max_{a'}Q^{*}(s',a')].\n",
    "\\end{equation*}\n",
    "Finally, deduce that a plausible objective is:\n",
    "\n",
    "\\begin{equation*}\n",
    "\\mathcal{L}(\\theta)=E_{s' \\sim \\pi^*(.|s,a)}\\Vert r+\\gamma\\max_{a'}Q(s',a',\\theta)-Q(s,a,\\theta)\\Vert^{2}.\n",
    "\\end{equation*}\n",
    "\n",
    "\n"
   ]
  },
  {
   "cell_type": "markdown",
   "metadata": {},
   "source": [
    "__Answer 5__\n",
    "\n",
    "We have by definition :\n",
    "\n",
    "\\begin{equation}\n",
    "    \\begin{aligned}\n",
    "        Q^\\pi(s,a)=E_{p^{\\pi}} (\\sum_{t=0}^{t= T} \\gamma^{t}r(s_{t},a_{t})|s_{0}=s,a_{0}=a) \\>  \\newline\n",
    "        Q^\\pi(s,a)=E_{p^{\\pi}} ( \\gamma^{0}r(s_{0},a_{0}) + \\sum_{t=1}^{t=T} \\gamma^{t}r(s_{t},a_{t})|s_{0}=s,a_{0}= a) \\> \\newline\n",
    "        Q^\\pi(s,a)=E_{p^{\\pi}} ( \\gamma^{0}r(s_{0},a_{0}) + \\gamma*\\sum_{t=0}^{t=T-1} \\gamma^{t}r(s_{t+1},a_{t+1})|s_{0}=s,a_{0}= a) \\>\n",
    "    \\end{aligned}\n",
    "\\end{equation}\n",
    "Thus, we have : \n",
    "\n",
    "\\begin{equation*}\n",
    "Q^{\\pi}(s,a)=E_{(s',a')\\sim p(.|s,a)}[r(s,a)+\\gamma Q^{\\pi}(s',a')]\n",
    "\\end{equation*}\n",
    "\n",
    "Then, the optimal Q function is:\n",
    "\\begin{equation}\n",
    "    \\begin{aligned}\n",
    "    Q^*(s,a)&=\\max_{\\pi}Q^\\pi(s,a) \\> . \\newline\n",
    "    Q^*(s,a)&= \\max_{\\pi} E_{(s',a')\\sim p(.|s,a)}[r(s,a)+\\gamma Q^{\\pi}(s',a')]\n",
    "    \\end{aligned}\n",
    "\\end{equation}\n",
    "\n",
    "As $\\pi$ is the strategy, we have :\n",
    "\n",
    "\\begin{equation}\n",
    "\\max_{\\pi} E_{(s',a')\\sim p(.|s,a)} = E_{s'\\sim \\pi^*(.|s,a)}max_{a'}\n",
    "\\end{equation}\n",
    "\n",
    "finally, as $r(s,a)$ is independant of a', we have : \n",
    "\n",
    "\\begin{equation*}\n",
    "Q^{*}(s,a)=E_{s'\\sim \\pi^*(.|s,a)}[r(s,a)+\\gamma\\max_{a'}Q^{*}(s',a')].\n",
    "\\end{equation*}\n",
    "\n",
    "In order for $\\mathcal{L}(\\theta)$ to be a plausible objective, it needs to be positive (as the expectency of a positive variable) and to converge to zero when $Q^{\\pi}(s,a) \\rightarrow Q^{*}(s,a)$. Which is indeed the case because :\n",
    "\n",
    "\\begin{equation}\n",
    "    \\begin{aligned}\n",
    "        &Q^{\\pi}(s,a) \\rightarrow Q^{*}(s,a) \\newline\n",
    "        \\iff &E_{s'\\sim \\pi^*(.|s,a)}[r(s,a)+\\gamma\\max_{a'}Q^{*}(s',a')] - E_{(s',a')\\sim p(.|s,a)}[r(s,a)+\\gamma Q^{\\pi}(s',a')] \\rightarrow 0 \\newline\n",
    "        \\iff &E_{s'\\sim \\pi^*(.|s,a)}[r(s,a)+\\gamma\\max_{a'}Q^{*}(s',a')-Q^{\\pi}(s',a')]  \\rightarrow 0 \\newline\n",
    "        \\iff &\\mathcal{L}(\\theta) \\rightarrow 0\n",
    "    \\end{aligned}\n",
    "\\end{equation}"
   ]
  },
  {
   "cell_type": "markdown",
   "metadata": {},
   "source": [
    "***\n",
    "The DQN-learning algorithm relies on these derivations to train the parameters $\\theta$ of a Deep Neural Network:\n",
    "\n",
    "1. At the state $s_t$, select the action $a_t$ with best reward using $Q_t$ and store the results;\n",
    "\n",
    "2. Obtain the new state $s_{t+1}$ from the environment $p$;\n",
    "\n",
    "3. Store $(s_t,a_t,s_{t+1})$;\n",
    "\n",
    "4. Obtain $Q_{t+1}$ by minimizing  $\\mathcal{L}$ from a recovered batch from the previously stored results.\n",
    "\n",
    "***\n",
    "__Question 6__ Implement the class ```Memory``` that stores moves (in a replay buffer) via ```remember``` and provides a ```random_access``` to these. Specify a maximum memory size to avoid side effects. You can for example use a ```list()``` and set by default ```max_memory=100```."
   ]
  },
  {
   "cell_type": "code",
   "execution_count": 10,
   "metadata": {
    "pycharm": {
     "is_executing": false
    }
   },
   "outputs": [],
   "source": [
    "class Memory(object):\n",
    "    def __init__(self, max_memory=100):\n",
    "        self.max_memory = max_memory\n",
    "        self.memory = list()\n",
    "\n",
    "    def remember(self, m):\n",
    "        actual_length = len(self.memory)\n",
    "        \n",
    "        if(actual_length>self.max_memory):\n",
    "            self.memory.pop(0)\n",
    "        self.memory.append(m)\n",
    "\n",
    "    def random_access(self):\n",
    "        i = np.random.randint(0, len(self.memory), size=1)[0]\n",
    "        return self.memory[i]"
   ]
  },
  {
   "cell_type": "markdown",
   "metadata": {},
   "source": [
    "***\n",
    "The pipeline we will use for training is given below:"
   ]
  },
  {
   "cell_type": "code",
   "execution_count": 11,
   "metadata": {
    "pycharm": {
     "is_executing": false
    }
   },
   "outputs": [],
   "source": [
    "def train(agent,env,epoch,prefix=''):\n",
    "    # Number of won games\n",
    "    score = 0\n",
    "    loss = 0\n",
    "\n",
    "    for e in range(epoch):\n",
    "        # At each epoch, we restart to a fresh game and get the initial state\n",
    "        state = env.reset()\n",
    "        # This assumes that the games will terminate\n",
    "        game_over = False\n",
    "\n",
    "        win = 0\n",
    "        lose = 0\n",
    "\n",
    "        while not game_over:\n",
    "            # The agent performs an action\n",
    "            action = agent.act(state)\n",
    "\n",
    "            # Apply an action to the environment, get the next state, the reward\n",
    "            # and if the games end\n",
    "            prev_state = state\n",
    "            state, reward, game_over = env.act(action)\n",
    "\n",
    "            # Update the counters\n",
    "            if reward > 0:\n",
    "                win = win + reward\n",
    "            if reward < 0:\n",
    "                lose = lose -reward\n",
    "\n",
    "            # Apply the reinforcement strategy\n",
    "            loss = agent.reinforce(prev_state, state,  action, reward, game_over)\n",
    "\n",
    "        # Save as a mp4\n",
    "        if e % 10 == 0:\n",
    "            env.draw(prefix+str(e))\n",
    "\n",
    "        # Update stats\n",
    "        score += win-lose\n",
    "\n",
    "        print(\"Epoch {:03d}/{:03d} | Loss {:.4f} | Win/lose count {}/{} ({})\"\n",
    "              .format(e, epoch, loss, win, lose, win-lose))\n",
    "        agent.save(name_weights=prefix+'model.h5',name_model=prefix+'model.json')"
   ]
  },
  {
   "cell_type": "markdown",
   "metadata": {},
   "source": [
    "***\n",
    "__Question 7__ Implement the DQN training algorithm using a cascade of fully connected layers. You can use different learning rate, batch size or memory size parameters. In particular, the loss might oscillate while the player will start to win the games. You have to find a good criterium."
   ]
  },
  {
   "cell_type": "code",
   "execution_count": 12,
   "metadata": {
    "pycharm": {
     "is_executing": false
    }
   },
   "outputs": [],
   "source": [
    "class DQN(Agent):\n",
    "    def __init__(self, grid_size,  epsilon = 0.1, memory_size=100, batch_size = 16,n_state=2):\n",
    "        super(DQN, self).__init__(epsilon = epsilon)\n",
    "\n",
    "        # Discount for Q learning\n",
    "        self.discount = 0.99\n",
    "        \n",
    "        self.grid_size = grid_size\n",
    "        \n",
    "        # number of state\n",
    "        self.n_state = n_state\n",
    "\n",
    "        # Memory\n",
    "        self.memory = Memory(memory_size)\n",
    "        \n",
    "        # Batch size when learning\n",
    "        self.batch_size = batch_size\n",
    "\n",
    "    def learned_act(self, s):\n",
    "        return np.argmax(self.model.predict(s.reshape([1,s.shape[0],s.shape[1],s.shape[2]]))[0,:])\n",
    "\n",
    "    def reinforce(self, s_, n_s_, a_, r_, game_over_):\n",
    "        # Two steps: first memorize the states, second learn from the pool\n",
    "\n",
    "        self.memory.remember([s_, n_s_, a_, r_, game_over_])\n",
    "        \n",
    "        input_states = np.zeros((self.batch_size, 5,5,self.n_state))\n",
    "        target_q = np.zeros((self.batch_size, 4))\n",
    "        \n",
    "        for i in range(self.batch_size):\n",
    "            ######## pick a random itteration\n",
    "            s_, n_s_, a_, r_, game_over_  = self.memory.random_access()\n",
    "            \n",
    "            # predict target q\n",
    "            target_q[i] =self.model.predict(s_.reshape([1,s_.shape[0],s_.shape[1],s_.shape[2]]))[0]\n",
    "            \n",
    "            if game_over_:\n",
    "                input_states[i] = s_\n",
    "                target_q[i,a_] = r_\n",
    "                \n",
    "            else:\n",
    "                input_states[i] = s_\n",
    "                target_q[i,a_] = r_  + self.discount*max(self.model.predict(n_s_.reshape([1,s_.shape[0],s_.shape[1],s_.shape[2]]))[0])\n",
    "                \n",
    "        target_q = np.clip(target_q, -3, 3)\n",
    "\n",
    "        l = self.model.train_on_batch(input_states, target_q)\n",
    "\n",
    "        return l\n",
    "\n",
    "    def save(self,name_weights='model.h5',name_model='model.json'):\n",
    "        self.model.save_weights(name_weights, overwrite=True)\n",
    "        with open(name_model, \"w\") as outfile:\n",
    "            json.dump(self.model.to_json(), outfile)\n",
    "            \n",
    "    def load(self,name_weights='model.h5',name_model='model.json'):\n",
    "        with open(name_model, \"r\") as jfile:\n",
    "            model = model_from_json(json.load(jfile))\n",
    "        model.load_weights(name_weights)\n",
    "        model.compile(\"sgd\", \"mse\")\n",
    "        self.model = model\n",
    "\n",
    "            \n",
    "class DQN_FC(DQN):\n",
    "    def __init__(self, *args, lr=0.1,**kwargs):\n",
    "        super(DQN_FC, self).__init__( *args,**kwargs)\n",
    "        \n",
    "        # NN Model\n",
    "        model = Sequential()\n",
    "        model.add(Flatten(input_shape=(5,5,self.n_state,)))\n",
    "        model.add(Dense(30,activation ='relu')) #simple one hidden layer network (see performance of other methods below)\n",
    "        model.add(Dense(4))\n",
    "        model.compile(sgd(lr=lr, decay=1e-4, momentum=0.0), \"mse\")\n",
    "        self.model = model\n",
    "        "
   ]
  },
  {
   "cell_type": "code",
   "execution_count": 13,
   "metadata": {
    "pycharm": {
     "is_executing": false
    }
   },
   "outputs": [
    {
     "name": "stdout",
     "output_type": "stream",
     "text": [
      "Epoch 000/010 | Loss 0.0077 | Win/lose count 0.5/4.0 (-3.5)\n",
      "Epoch 001/010 | Loss 0.0109 | Win/lose count 2.5/1.0 (1.5)\n",
      "Epoch 002/010 | Loss 0.0341 | Win/lose count 2.5/3.0 (-0.5)\n",
      "Epoch 003/010 | Loss 0.0568 | Win/lose count 2.0/0 (2.0)\n",
      "Epoch 004/010 | Loss 0.0271 | Win/lose count 2.0/6.0 (-4.0)\n",
      "Epoch 005/010 | Loss 0.0078 | Win/lose count 5.0/3.0 (2.0)\n",
      "Epoch 006/010 | Loss 0.0072 | Win/lose count 2.0/4.0 (-2.0)\n",
      "Epoch 007/010 | Loss 0.0170 | Win/lose count 3.0/4.0 (-1.0)\n",
      "Epoch 008/010 | Loss 0.0142 | Win/lose count 1.0/4.0 (-3.0)\n",
      "Epoch 009/010 | Loss 0.0102 | Win/lose count 1.5/2.0 (-0.5)\n"
     ]
    },
    {
     "data": {
      "text/html": [
       "<video alt=\"test\" controls>\n",
       "                <source src=\"data:video/mp4;base64,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\" type=\"video/mp4\" />\n",
       "             </video>"
      ],
      "text/plain": [
       "<IPython.core.display.HTML object>"
      ]
     },
     "execution_count": 13,
     "metadata": {},
     "output_type": "execute_result"
    }
   ],
   "source": [
    "env = Environment(grid_size=size, max_time=T, temperature=0.3)\n",
    "agent = DQN_FC(size, lr=.1, epsilon = 0.1, memory_size=2000, batch_size = 32)\n",
    "train(agent, env, epochs_train, prefix='fc_train')\n",
    "HTML(display_videos('fc_train0.mp4'))"
   ]
  },
  {
   "cell_type": "markdown",
   "metadata": {},
   "source": [
    "***\n",
    "***\n",
    "__Question 8__ Implement the DQN training algorithm using a CNN (for example, 2 convolutional layers and one final fully connected layer)."
   ]
  },
  {
   "cell_type": "markdown",
   "metadata": {},
   "source": [
    "__Answer__\n",
    "I tried differents models : changing the number of convolution Layer, the activation function, the size of the kernel.\n",
    "\n",
    "My best results are for : 2 hidden Convolution Layer ((50,(2,2) and then (30,(2,2)) with the relu activation"
   ]
  },
  {
   "cell_type": "code",
   "execution_count": 14,
   "metadata": {
    "pycharm": {
     "is_executing": false
    }
   },
   "outputs": [],
   "source": [
    "class DQN_CNN(DQN):\n",
    "    def __init__(self, *args,lr=0.1,**kwargs):\n",
    "        super(DQN_CNN, self).__init__(*args,**kwargs)\n",
    "        \n",
    "        model = Sequential()\n",
    "        \n",
    "        model.add(Conv2D(50,(2,2),input_shape=(5,5,self.n_state,),activation='relu'))\n",
    "        \n",
    "        model.add(Conv2D(30,(2,2),activation='relu'))\n",
    "        \n",
    "        model.add(Flatten())\n",
    "        \n",
    "        model.add(Dense(4))\n",
    "        \n",
    "        model.compile(sgd(lr=lr, decay=1e-4, momentum=0.0), \"mse\")\n",
    "        \n",
    "        self.model = model"
   ]
  },
  {
   "cell_type": "code",
   "execution_count": 15,
   "metadata": {
    "pycharm": {
     "is_executing": false
    }
   },
   "outputs": [
    {
     "name": "stdout",
     "output_type": "stream",
     "text": [
      "Epoch 000/010 | Loss 0.0185 | Win/lose count 4.5/3.0 (1.5)\n",
      "Epoch 001/010 | Loss 0.0049 | Win/lose count 2.0/2.0 (0.0)\n",
      "Epoch 002/010 | Loss 0.0031 | Win/lose count 3.5/15.0 (-11.5)\n",
      "Epoch 003/010 | Loss 0.0029 | Win/lose count 1.5/1.0 (0.5)\n",
      "Epoch 004/010 | Loss 0.0220 | Win/lose count 5.0/5.0 (0.0)\n",
      "Epoch 005/010 | Loss 0.0525 | Win/lose count 5.0/1.0 (4.0)\n",
      "Epoch 006/010 | Loss 0.0623 | Win/lose count 1.5/1.0 (0.5)\n",
      "Epoch 007/010 | Loss 0.0488 | Win/lose count 1.5/3.0 (-1.5)\n",
      "Epoch 008/010 | Loss 0.0015 | Win/lose count 4.5/2.0 (2.5)\n",
      "Epoch 009/010 | Loss 0.0021 | Win/lose count 7.0/1.0 (6.0)\n"
     ]
    },
    {
     "data": {
      "text/html": [
       "<video alt=\"test\" controls>\n",
       "                <source src=\"data:video/mp4;base64,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\" type=\"video/mp4\" />\n",
       "             </video>"
      ],
      "text/plain": [
       "<IPython.core.display.HTML object>"
      ]
     },
     "execution_count": 15,
     "metadata": {},
     "output_type": "execute_result"
    }
   ],
   "source": [
    "env = Environment(grid_size=size, max_time=T, temperature=0.3)\n",
    "agent = DQN_CNN(size, lr=.1, epsilon = 0.1, memory_size=2000, batch_size = 32)\n",
    "train(agent,env,epochs_train,prefix='cnn_train')\n",
    "HTML(display_videos('cnn_train0.mp4'))"
   ]
  },
  {
   "cell_type": "markdown",
   "metadata": {},
   "source": [
    "***\n",
    "***\n",
    "__Question 9__ Test both algorithms and compare their performances. Which issue(s) do you observe? Observe also different behaviors by changing the temperature."
   ]
  },
  {
   "cell_type": "code",
   "execution_count": 16,
   "metadata": {
    "pycharm": {
     "is_executing": false
    }
   },
   "outputs": [
    {
     "name": "stdout",
     "output_type": "stream",
     "text": [
      "Test of the CNN\n",
      "Win/lose count 1.0/0. Average score (1.0)\n",
      "Win/lose count 0.5/1.0. Average score (0.25)\n",
      "Win/lose count 1.5/2.0. Average score (0.0)\n",
      "Win/lose count 0.5/3.0. Average score (-0.625)\n",
      "Win/lose count 1.0/2.0. Average score (-0.7)\n",
      "Win/lose count 1.5/1.0. Average score (-0.5)\n",
      "Win/lose count 1.0/0. Average score (-0.2857142857142857)\n",
      "Win/lose count 1.0/1.0. Average score (-0.25)\n",
      "Win/lose count 1.0/3.0. Average score (-0.4444444444444444)\n",
      "Win/lose count 2.5/1.0. Average score (-0.25)\n",
      "Final score: -0.25\n",
      "Test of the FC\n",
      "Win/lose count 0/3.0. Average score (-3.0)\n",
      "Win/lose count 0.5/2.0. Average score (-2.25)\n",
      "Win/lose count 0.5/2.0. Average score (-2.0)\n",
      "Win/lose count 2.0/6.0. Average score (-2.5)\n",
      "Win/lose count 0.5/0. Average score (-1.9)\n",
      "Win/lose count 1.5/0. Average score (-1.3333333333333333)\n",
      "Win/lose count 1.0/2.0. Average score (-1.2857142857142858)\n",
      "Win/lose count 1.5/5.0. Average score (-1.5625)\n",
      "Win/lose count 0.5/3.0. Average score (-1.6666666666666667)\n",
      "Win/lose count 1.5/1.0. Average score (-1.45)\n",
      "Final score: -1.45\n"
     ]
    }
   ],
   "source": [
    "env = Environment(grid_size=size, max_time=T,temperature=0.1)\n",
    "agent_cnn = DQN_CNN(size, lr=.1, epsilon = 0.1, memory_size=2000, batch_size = 32)\n",
    "agent_cnn.load(name_weights='cnn_trainmodel.h5',name_model='cnn_trainmodel.json')\n",
    "\n",
    "agent_fc = DQN_FC(size, lr=.1, epsilon = 0.1, memory_size=2000, batch_size = 32)\n",
    "agent_cnn.load(name_weights='fc_trainmodel.h5',name_model='fc_trainmodel.json')\n",
    "print('Test of the CNN')\n",
    "test(agent_cnn,env,epochs_test,prefix='cnn_test')\n",
    "print('Test of the FC')\n",
    "test(agent_fc,env,epochs_test,prefix='fc_test')"
   ]
  },
  {
   "cell_type": "code",
   "execution_count": 17,
   "metadata": {
    "pycharm": {
     "is_executing": false
    }
   },
   "outputs": [
    {
     "data": {
      "text/html": [
       "<video alt=\"test\" controls>\n",
       "                <source src=\"data:video/mp4;base64,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\" type=\"video/mp4\" />\n",
       "             </video>"
      ],
      "text/plain": [
       "<IPython.core.display.HTML object>"
      ]
     },
     "execution_count": 17,
     "metadata": {},
     "output_type": "execute_result"
    }
   ],
   "source": [
    "HTML(display_videos('cnn_test0.mp4'))"
   ]
  },
  {
   "cell_type": "code",
   "execution_count": 18,
   "metadata": {
    "pycharm": {
     "is_executing": false
    }
   },
   "outputs": [
    {
     "data": {
      "text/html": [
       "<video alt=\"test\" controls>\n",
       "                <source src=\"data:video/mp4;base64,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\" type=\"video/mp4\" />\n",
       "             </video>"
      ],
      "text/plain": [
       "<IPython.core.display.HTML object>"
      ]
     },
     "execution_count": 18,
     "metadata": {},
     "output_type": "execute_result"
    }
   ],
   "source": [
    "HTML(display_videos('fc_test0.mp4'))"
   ]
  },
  {
   "cell_type": "markdown",
   "metadata": {},
   "source": [
    "__Answer__\n",
    "\n",
    "The main issue that we can observe is that the algorithms tends to not explore the map, the mousse stay arround it's initial position. It makes small circle and take the nearest ressource if tere is ressources.\n",
    "\n",
    "This method will not decrease the score but will not help to improve it. The mouse is too carefull.\n",
    "\n"
   ]
  },
  {
   "cell_type": "markdown",
   "metadata": {},
   "source": [
    "***\n",
    "\n",
    "The algorithm tends to not explore the map which can be an issue. We propose two ideas in order to encourage exploration:\n",
    "1. Incorporating a decreasing $\\epsilon$-greedy exploration. You can use the method ```set_epsilon```\n",
    "2. Append via the environment a new state that describes if a cell has been visited or not\n",
    "\n",
    "***\n",
    "__Question 10__ Design a new ```train_explore``` function and environment class ```EnvironmentExploring``` to tackle the issue of exploration.\n",
    "\n"
   ]
  },
  {
   "cell_type": "code",
   "execution_count": 19,
   "metadata": {
    "pycharm": {
     "is_executing": false
    }
   },
   "outputs": [],
   "source": [
    "def train_explore(agent,env,epoch,decay_parameter_epsilon=0.3,prefix=''):\n",
    "    # We use the template of the previous train function\n",
    "    # We compute a new training procedure in order to increase the exploration \n",
    "    # Decay_parameter_epsilon in order to use the decreasing epsilon-greedy exploration\n",
    "    \n",
    "    # Number of won games\n",
    "    score = 0\n",
    "    loss = 0\n",
    "\n",
    "    for e in range(epoch):\n",
    "        \n",
    "        state = env.reset()\n",
    "        game_over = False\n",
    "\n",
    "        win = 0\n",
    "        lose = 0\n",
    "        \n",
    "        ## the following line is the important line here\n",
    "        agent.set_epsilon(agent.epsilon*(1-decay_parameter_epsilon))\n",
    "        \n",
    "        while not game_over:\n",
    "            action = agent.act(state)\n",
    "\n",
    "            prev_state = state\n",
    "            state, reward, game_over = env.act(action, train=True)\n",
    "\n",
    "            if reward > 0:\n",
    "                win = win + reward\n",
    "            if reward < 0:\n",
    "                lose = lose -reward\n",
    "\n",
    "            loss = agent.reinforce(prev_state, state,  action, reward, game_over)\n",
    "\n",
    "        if e % 10 == 0:\n",
    "            env.draw(prefix+str(e))\n",
    "\n",
    "        score += win-lose\n",
    "\n",
    "        print(\"Epoch {:03d}/{:03d} | Loss {:.4f} | Win/lose count {}/{} ({})\"\n",
    "              .format(e, epoch, loss, win, lose, win-lose))\n",
    "        agent.save(name_weights=prefix+'model.h5',name_model=prefix+'model.json')\n",
    "\n",
    "# We now use as template the class Environment\n",
    "## In Environment exploring we will have to change n_state to 3 because you will use one more layer\n",
    "\n",
    "class EnvironmentExploring(object):\n",
    "    def __init__(self, grid_size=10, max_time=500, temperature=0.1):\n",
    "        grid_size = grid_size+4\n",
    "        self.grid_size = grid_size\n",
    "        self.max_time = max_time\n",
    "        self.temperature = temperature\n",
    "\n",
    "        #board on which one plays\n",
    "        self.board = np.zeros((grid_size,grid_size))\n",
    "        self.position = np.zeros((grid_size,grid_size))\n",
    "        self.malus_position = np.zeros((grid_size,grid_size)) #define maluses when going to a previously visited position\n",
    "        # coordinate of the cat\n",
    "        self.x = 0\n",
    "        self.y = 1\n",
    "\n",
    "        # self time\n",
    "        self.t = 0\n",
    "\n",
    "        self.scale=16\n",
    "\n",
    "        self.to_draw = np.zeros((max_time+2, grid_size*self.scale, grid_size*self.scale, 3))\n",
    "\n",
    "\n",
    "    def draw(self,e):\n",
    "        skvideo.io.vwrite(str(e) + '.mp4', self.to_draw)\n",
    "\n",
    "    def get_frame(self,t):\n",
    "        b = np.zeros((self.grid_size,self.grid_size,3))+128\n",
    "        b[self.board>0,0] = 256\n",
    "        b[self.board < 0, 2] = 256\n",
    "        b[self.x,self.y,:]=256\n",
    "        b[-2:,:,:]=0\n",
    "        b[:,-2:,:]=0\n",
    "        b[:2,:,:]=0\n",
    "        b[:,:2,:]=0\n",
    "        b =  cv2.resize(b, None, fx=self.scale, fy=self.scale, interpolation=cv2.INTER_NEAREST)\n",
    "        self.to_draw[t,:,:,:]=b\n",
    "\n",
    "\n",
    "    def act(self, action,train=False):\n",
    "        \"\"\"This function returns the new state, reward and decides if the\n",
    "        game ends.\"\"\"\n",
    "        #During the training phase going back to a position where the rat have already been before tends to decrease the \n",
    "        #total reward hence there is this train parameter that we have added (it tries to enforce the exploration)\n",
    "\n",
    "        self.get_frame(int(self.t))\n",
    "\n",
    "        self.position = np.zeros((self.grid_size, self.grid_size))\n",
    "\n",
    "        self.position[0:2,:]= -1\n",
    "        self.position[:,0:2] = -1\n",
    "        self.position[-2:, :] = -1\n",
    "        self.position[:, -2:] = -1\n",
    "\n",
    "        self.position[self.x, self.y] = 1\n",
    "        if action == 0:\n",
    "            if self.x == self.grid_size-3:\n",
    "                self.x = self.x-1\n",
    "            else:\n",
    "                self.x = self.x + 1\n",
    "        elif action == 1:\n",
    "            if self.x == 2:\n",
    "                self.x = self.x+1\n",
    "            else:\n",
    "                self.x = self.x-1\n",
    "        elif action == 2:\n",
    "            if self.y == self.grid_size - 3:\n",
    "                self.y = self.y - 1\n",
    "            else:\n",
    "                self.y = self.y + 1\n",
    "        elif action == 3:\n",
    "            if self.y == 2:\n",
    "                self.y = self.y + 1\n",
    "            else:\n",
    "                self.y = self.y - 1\n",
    "        else:\n",
    "            RuntimeError('Error: action not recognized')\n",
    "\n",
    "        self.t = self.t + 1     \n",
    "        \n",
    "        \n",
    "        reward = 0\n",
    "        if train:\n",
    "            reward = -self.malus_position[self.x, self.y]\n",
    "        self.malus_position[self.x, self.y] = 0.1\n",
    "\n",
    "        reward = reward + self.board[self.x, self.y]\n",
    "        self.board[self.x, self.y] = 0\n",
    "        game_over = self.t > self.max_time\n",
    "        # 3 \"feature\" states instead of 2\n",
    "        state = np.concatenate((self.malus_position.reshape(self.grid_size, self.grid_size,1),\n",
    "                                        self.board.reshape(self.grid_size, self.grid_size,1),\n",
    "                                self.position.reshape(self.grid_size, self.grid_size,1)),axis=2)\n",
    "        state = state[self.x-2:self.x+3,self.y-2:self.y+3,:]\n",
    "\n",
    "        return state, reward, game_over\n",
    "\n",
    "    def reset(self):\n",
    "        \"\"\"This function resets the game and returns the initial state\"\"\"\n",
    "\n",
    "        self.x = np.random.randint(3, self.grid_size-3, size=1)[0]\n",
    "        self.y = np.random.randint(3, self.grid_size-3, size=1)[0]\n",
    "\n",
    "\n",
    "        bonus = 0.5*np.random.binomial(1,self.temperature,size=self.grid_size**2)\n",
    "        bonus = bonus.reshape(self.grid_size,self.grid_size)\n",
    "\n",
    "        malus = -1.0*np.random.binomial(1,self.temperature,size=self.grid_size**2)\n",
    "        malus = malus.reshape(self.grid_size, self.grid_size)\n",
    "\n",
    "        self.to_draw = np.zeros((self.max_time+2, self.grid_size*self.scale, self.grid_size*self.scale, 3))\n",
    "\n",
    "        malus[bonus>0]=0\n",
    "\n",
    "        self.board = bonus + malus\n",
    "\n",
    "        self.position = np.zeros((self.grid_size, self.grid_size))\n",
    "        self.position[0:2,:]= -1\n",
    "        self.position[:,0:2] = -1\n",
    "        self.position[-2:, :] = -1\n",
    "        self.position[:,-2:] = -1\n",
    "        self.board[self.x,self.y] = 0\n",
    "        self.t = 0\n",
    "\n",
    "        self.malus_position = np.zeros((self.grid_size, self.grid_size))\n",
    "        #At the begining the malus_position array must be setted to zero\n",
    "        state = np.concatenate((self.malus_position.reshape(self.grid_size, self.grid_size,1),\n",
    "                                        self.board.reshape(self.grid_size, self.grid_size,1),\n",
    "                                self.position.reshape(self.grid_size, self.grid_size,1)),axis=2)\n",
    "\n",
    "        state = state[self.x - 2:self.x + 3, self.y - 2:self.y + 3, :]\n",
    "        \n",
    "        return state\n"
   ]
  },
  {
   "cell_type": "code",
   "execution_count": 20,
   "metadata": {
    "pycharm": {
     "is_executing": false
    }
   },
   "outputs": [
    {
     "name": "stdout",
     "output_type": "stream",
     "text": [
      "Epoch 000/010 | Loss 0.0022 | Win/lose count 3.5/21.100000000000033 (-17.600000000000033)\n",
      "Epoch 001/010 | Loss 0.0025 | Win/lose count 2.0/19.900000000000016 (-17.900000000000016)\n",
      "Epoch 002/010 | Loss 0.0050 | Win/lose count 10.0/19.69999999999999 (-9.699999999999989)\n",
      "Epoch 003/010 | Loss 0.0285 | Win/lose count 6.5/25.100000000000055 (-18.600000000000055)\n",
      "Epoch 004/010 | Loss 0.0105 | Win/lose count 4.0/19.000000000000004 (-15.000000000000004)\n",
      "Epoch 005/010 | Loss 0.0073 | Win/lose count 10.0/18.5 (-8.5)\n",
      "Epoch 006/010 | Loss 0.0027 | Win/lose count 12.5/16.199999999999964 (-3.6999999999999638)\n",
      "Epoch 007/010 | Loss 0.0034 | Win/lose count 11.5/17.899999999999977 (-6.399999999999977)\n",
      "Epoch 008/010 | Loss 0.0061 | Win/lose count 2.0/19.0 (-17.0)\n",
      "Epoch 009/010 | Loss 0.0033 | Win/lose count 5.5/18.8 (-13.3)\n"
     ]
    },
    {
     "data": {
      "text/html": [
       "<video alt=\"test\" controls>\n",
       "                <source src=\"data:video/mp4;base64,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\" type=\"video/mp4\" />\n",
       "             </video>"
      ],
      "text/plain": [
       "<IPython.core.display.HTML object>"
      ]
     },
     "execution_count": 20,
     "metadata": {},
     "output_type": "execute_result"
    }
   ],
   "source": [
    "# Training\n",
    "env = EnvironmentExploring(grid_size=size, max_time=T, temperature=0.3)\n",
    "agent = DQN_CNN(size, lr=.1, epsilon = 0.1, memory_size=2000, batch_size = 32,n_state=3)\n",
    "train_explore(agent, env, epochs_train, prefix='cnn_train_explore')\n",
    "HTML(display_videos('cnn_train_explore0.mp4'))"
   ]
  },
  {
   "cell_type": "code",
   "execution_count": 21,
   "metadata": {
    "pycharm": {
     "is_executing": false
    }
   },
   "outputs": [
    {
     "name": "stdout",
     "output_type": "stream",
     "text": [
      "Win/lose count 5.0/0. Average score (5.0)\n",
      "Win/lose count 2.0/0. Average score (3.5)\n",
      "Win/lose count 7.0/1.0. Average score (4.333333333333333)\n",
      "Win/lose count 14.5/0. Average score (6.875)\n",
      "Win/lose count 4.0/2.0. Average score (5.9)\n",
      "Win/lose count 1.0/0. Average score (5.083333333333333)\n",
      "Win/lose count 6.5/1.0. Average score (5.142857142857143)\n",
      "Win/lose count 6.5/0. Average score (5.3125)\n",
      "Win/lose count 2.5/0. Average score (5.0)\n",
      "Win/lose count 6.5/1.0. Average score (5.05)\n",
      "Final score: 5.05\n"
     ]
    },
    {
     "data": {
      "text/html": [
       "<video alt=\"test\" controls>\n",
       "                <source src=\"data:video/mp4;base64,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\" type=\"video/mp4\" />\n",
       "             </video>"
      ],
      "text/plain": [
       "<IPython.core.display.HTML object>"
      ]
     },
     "execution_count": 21,
     "metadata": {},
     "output_type": "execute_result"
    }
   ],
   "source": [
    "# Evaluation\n",
    "test(agent,env,epochs_test,prefix='cnn_test_explore')\n",
    "HTML(display_videos('cnn_test_explore0.mp4'))"
   ]
  },
  {
   "cell_type": "markdown",
   "metadata": {},
   "source": [
    "__Observation__\n",
    "\n",
    "In regards of the results of this last method, we can see the outcome has been widely improved using the exploration techniques.\n",
    "\n",
    "Visually, we see that the mouse tends to explore more the grid."
   ]
  },
  {
   "cell_type": "markdown",
   "metadata": {},
   "source": [
    "***\n",
    "***\n",
    "__BONUS question__ Use the expert DQN from the previous question to generate some winning games. Train a model that mimicks its behavior. Compare the performances."
   ]
  },
  {
   "cell_type": "code",
   "execution_count": 22,
   "metadata": {},
   "outputs": [],
   "source": [
    "class DQN_Mim(Agent):\n",
    "    def __init__(self, grid_size,  epsilon = 0.1, memory_size=100, batch_size = 16,n_state=2):\n",
    "        ''''same as for DQN Class'''\n",
    "        super(DQN_Mim, self).__init__(epsilon = epsilon)\n",
    "\n",
    "        self.discount = 0.99        \n",
    "        self.grid_size = grid_size\n",
    "        self.n_state = n_state\n",
    "        self.memory = Memory(memory_size)\n",
    "        self.batch_size = batch_size\n",
    "\n",
    "    def learned_act(self, s):\n",
    "        ''''same as for DQN Class'''\n",
    "        return np.argmax(self.model.predict(s.reshape([1,s.shape[0],s.shape[1],s.shape[2]]))[0,:])\n",
    "\n",
    "    def reinforce(self, s_, a_):\n",
    "        # Two steps: first memorize the states, second learn from the pool\n",
    "        self.memory.remember([s_[:,:,1:], a_]) \n",
    "        #In this case, we just need the current state and the action that has been applied\n",
    "        input_states = np.zeros((self.batch_size, 5,5,self.n_state))\n",
    "        target_q = np.zeros((self.batch_size, 4))\n",
    "        \n",
    "        for i in range(self.batch_size):\n",
    "            s_, a_ = self.memory.random_access()\n",
    "            input_states[i] = s_\n",
    "            # In order to mimick the expert, we maximized the action made by the expert\n",
    "            target_q[i,a_] = 10  \n",
    "        l = self.model.train_on_batch(input_states, target_q)\n",
    "        return l\n",
    "\n",
    "    def save(self,name_weights='model.h5',name_model='model.json'):\n",
    "        ''''same as for DQN Class'''\n",
    "        self.model.save_weights(name_weights, overwrite=True)\n",
    "        with open(name_model, \"w\") as outfile:\n",
    "            json.dump(self.model.to_json(), outfile)\n",
    "            \n",
    "    def load(self,name_weights='model.h5',name_model='model.json'):\n",
    "        ''''same as for DQN Class'''\n",
    "        with open(name_model, \"r\") as jfile:\n",
    "            model = model_from_json(json.load(jfile))\n",
    "        model.load_weights(name_weights)\n",
    "        model.compile(\"sgd\", \"mse\")\n",
    "        self.model = model\n",
    "            \n",
    "class DQN_CNN_Mim(DQN_Mim):\n",
    "    ''''CNN model with the best results over a test on differents hyperparamaters : activation function, number of Conv2D Layer, decay'''\n",
    "    def __init__(self, *args,lr=0.1,**kwargs):\n",
    "        super(DQN_CNN_Mim, self).__init__(*args,**kwargs)\n",
    "        \n",
    "        model = Sequential()\n",
    "        model.add(Conv2D(50,(2,2),input_shape=(5,5,self.n_state,),activation='relu'))\n",
    "        model.add(Flatten())\n",
    "        model.add(Dense(4))\n",
    "        model.compile(sgd(lr=lr, decay=1e-4, momentum=0.0), \"mse\")\n",
    "        self.model = model"
   ]
  },
  {
   "cell_type": "code",
   "execution_count": 23,
   "metadata": {},
   "outputs": [],
   "source": [
    "def train_mimick(expert,agent,env,epoch,prefix=''):\n",
    "    ''''same as for DQN'''\n",
    "    score = 0\n",
    "    loss = 0    \n",
    "    \n",
    "    for e in range(epoch):\n",
    "        state = env.reset()\n",
    "        game_over = False\n",
    "\n",
    "        win = 0\n",
    "        lose = 0\n",
    "        while not game_over:\n",
    "            action = expert.act(state,train=False)\n",
    "            prev_state = state\n",
    "            state, reward, game_over = env.act(action)\n",
    "\n",
    "            if reward > 0:\n",
    "                win = win + reward\n",
    "            if reward < 0:\n",
    "                lose = lose -reward\n",
    "\n",
    "            # Apply the reinforcement strategy\n",
    "            loss = agent.reinforce(prev_state,  action)\n",
    "\n",
    "        if e % 10 == 0:\n",
    "            env.draw(prefix+str(e))\n",
    "\n",
    "        score += win-lose\n",
    "\n",
    "        print(\"Epoch {:03d}/{:03d} | Loss {:.4f} | Win/lose count {}/{} ({})\"\n",
    "              .format(e, epoch, loss, win, lose, win-lose))\n",
    "        agent.save(name_weights=prefix+'model.h5',name_model=prefix+'model.json')\n"
   ]
  },
  {
   "cell_type": "code",
   "execution_count": 24,
   "metadata": {},
   "outputs": [
    {
     "name": "stdout",
     "output_type": "stream",
     "text": [
      "Epoch 000/050 | Loss 1.1419 | Win/lose count 8.5/1.0 (7.5)\n",
      "Epoch 001/050 | Loss 0.3002 | Win/lose count 3.0/0 (3.0)\n",
      "Epoch 002/050 | Loss 2.6543 | Win/lose count 8.0/1.0 (7.0)\n",
      "Epoch 003/050 | Loss 0.9836 | Win/lose count 5.0/1.0 (4.0)\n",
      "Epoch 004/050 | Loss 1.7042 | Win/lose count 9.0/0 (9.0)\n",
      "Epoch 005/050 | Loss 0.6979 | Win/lose count 7.0/0 (7.0)\n",
      "Epoch 006/050 | Loss 1.2850 | Win/lose count 4.5/0 (4.5)\n",
      "Epoch 007/050 | Loss 0.7460 | Win/lose count 1.0/1.0 (0.0)\n",
      "Epoch 008/050 | Loss 1.0415 | Win/lose count 6.0/0 (6.0)\n",
      "Epoch 009/050 | Loss 1.1391 | Win/lose count 1.0/0 (1.0)\n",
      "Epoch 010/050 | Loss 0.8140 | Win/lose count 4.5/0 (4.5)\n",
      "Epoch 011/050 | Loss 1.0107 | Win/lose count 5.0/0 (5.0)\n",
      "Epoch 012/050 | Loss 0.9314 | Win/lose count 3.5/0 (3.5)\n",
      "Epoch 013/050 | Loss 0.4427 | Win/lose count 19.5/1.0 (18.5)\n",
      "Epoch 014/050 | Loss 0.2982 | Win/lose count 7.5/0 (7.5)\n",
      "Epoch 015/050 | Loss 0.5104 | Win/lose count 6.5/0 (6.5)\n",
      "Epoch 016/050 | Loss 1.2354 | Win/lose count 5.5/0 (5.5)\n",
      "Epoch 017/050 | Loss 0.7832 | Win/lose count 13.0/0 (13.0)\n",
      "Epoch 018/050 | Loss 0.7842 | Win/lose count 6.5/1.0 (5.5)\n",
      "Epoch 019/050 | Loss 2.3012 | Win/lose count 6.0/0 (6.0)\n",
      "Epoch 020/050 | Loss 1.1121 | Win/lose count 8.0/1.0 (7.0)\n",
      "Epoch 021/050 | Loss 1.0674 | Win/lose count 10.0/0 (10.0)\n",
      "Epoch 022/050 | Loss 2.3306 | Win/lose count 9.0/0 (9.0)\n",
      "Epoch 023/050 | Loss 3.8608 | Win/lose count 15.0/1.0 (14.0)\n",
      "Epoch 024/050 | Loss 2.5245 | Win/lose count 6.0/0 (6.0)\n",
      "Epoch 025/050 | Loss 3.9791 | Win/lose count 7.0/1.0 (6.0)\n",
      "Epoch 026/050 | Loss 1.5505 | Win/lose count 4.0/0 (4.0)\n",
      "Epoch 027/050 | Loss 2.0054 | Win/lose count 7.0/0 (7.0)\n",
      "Epoch 028/050 | Loss 2.2044 | Win/lose count 2.5/1.0 (1.5)\n",
      "Epoch 029/050 | Loss 1.3677 | Win/lose count 10.0/0 (10.0)\n",
      "Epoch 030/050 | Loss 2.2346 | Win/lose count 2.0/0 (2.0)\n",
      "Epoch 031/050 | Loss 0.9503 | Win/lose count 1.5/0 (1.5)\n",
      "Epoch 032/050 | Loss 0.3244 | Win/lose count 6.5/0 (6.5)\n",
      "Epoch 033/050 | Loss 0.4865 | Win/lose count 3.0/0 (3.0)\n",
      "Epoch 034/050 | Loss 1.4953 | Win/lose count 5.5/0 (5.5)\n",
      "Epoch 035/050 | Loss 0.3798 | Win/lose count 4.0/0 (4.0)\n",
      "Epoch 036/050 | Loss 0.1826 | Win/lose count 1.0/0 (1.0)\n",
      "Epoch 037/050 | Loss 1.1218 | Win/lose count 5.0/0 (5.0)\n",
      "Epoch 038/050 | Loss 1.2239 | Win/lose count 15.0/1.0 (14.0)\n",
      "Epoch 039/050 | Loss 0.7370 | Win/lose count 10.5/0 (10.5)\n",
      "Epoch 040/050 | Loss 1.6440 | Win/lose count 13.0/0 (13.0)\n",
      "Epoch 041/050 | Loss 1.1591 | Win/lose count 2.0/0 (2.0)\n",
      "Epoch 042/050 | Loss 0.6096 | Win/lose count 2.0/0 (2.0)\n",
      "Epoch 043/050 | Loss 1.3074 | Win/lose count 8.5/0 (8.5)\n",
      "Epoch 044/050 | Loss 1.5467 | Win/lose count 5.0/0 (5.0)\n",
      "Epoch 045/050 | Loss 1.2645 | Win/lose count 13.0/1.0 (12.0)\n",
      "Epoch 046/050 | Loss 1.0411 | Win/lose count 4.5/0 (4.5)\n",
      "Epoch 047/050 | Loss 1.3541 | Win/lose count 2.5/0 (2.5)\n",
      "Epoch 048/050 | Loss 0.7435 | Win/lose count 3.5/0 (3.5)\n",
      "Epoch 049/050 | Loss 1.2658 | Win/lose count 14.0/0 (14.0)\n"
     ]
    }
   ],
   "source": [
    "epochs_train = 50\n",
    "expert = agent\n",
    "agent_n = DQN_CNN_Mim(size, lr=.1, epsilon = 0.1, memory_size=2000, batch_size = 32,n_state=2)\n",
    "env = EnvironmentExploring(grid_size=size, max_time=T, temperature=0.3)\n",
    "train_mimick(expert,agent_n, env, epochs_train, prefix='cnn_train_mimick')\n"
   ]
  },
  {
   "cell_type": "code",
   "execution_count": 25,
   "metadata": {},
   "outputs": [
    {
     "name": "stdout",
     "output_type": "stream",
     "text": [
      "Win/lose count 8.0/6.0. Average score (2.0)\n",
      "Win/lose count 14.5/5.0. Average score (5.75)\n",
      "Win/lose count 9.0/4.0. Average score (5.5)\n",
      "Win/lose count 14.0/3.0. Average score (6.875)\n",
      "Win/lose count 6.0/3.0. Average score (6.1)\n",
      "Win/lose count 12.5/2.0. Average score (6.833333333333333)\n",
      "Win/lose count 13.0/3.0. Average score (7.285714285714286)\n",
      "Win/lose count 15.0/5.0. Average score (7.625)\n",
      "Win/lose count 6.0/4.0. Average score (7.0)\n",
      "Win/lose count 3.5/6.0. Average score (6.05)\n",
      "Final score: 6.05\n"
     ]
    }
   ],
   "source": [
    "env_test = Environment(grid_size=size, max_time=T,temperature=0.3)\n",
    "test(agent_n,env_test,epochs_test,prefix='cnn_test_mimick')"
   ]
  },
  {
   "cell_type": "code",
   "execution_count": 26,
   "metadata": {},
   "outputs": [
    {
     "data": {
      "text/html": [
       "<video alt=\"test\" controls>\n",
       "                <source src=\"data:video/mp4;base64,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\" type=\"video/mp4\" />\n",
       "             </video>"
      ],
      "text/plain": [
       "<IPython.core.display.HTML object>"
      ]
     },
     "execution_count": 26,
     "metadata": {},
     "output_type": "execute_result"
    }
   ],
   "source": [
    "HTML(display_videos('cnn_test_mimick0.mp4'))"
   ]
  },
  {
   "cell_type": "markdown",
   "metadata": {},
   "source": [
    "__Observation__\n",
    "\n",
    "As we can see our algorithm that tries to mimick the expert performs better than the algorithm without exploration!\n",
    "\n",
    "The final score for the copy is lower than the score obtained using the approach with exploration. \n",
    "\n",
    "One way to explain this difference is that it doesn't really learn to improve the score as it just tries to copy the original algorithm.\n",
    "It could at best performs such as the expert algorithm but it couldn't exceed it (in average). \n",
    "\n",
    "In order to improve this algorithm, we define an approach where we would sometimes copy the expert and some others train the algorithm with new experiences."
   ]
  },
  {
   "cell_type": "markdown",
   "metadata": {},
   "source": [
    "***"
   ]
  }
 ],
 "metadata": {
  "kernelspec": {
   "display_name": "Python 3",
   "language": "python",
   "name": "python3"
  },
  "language_info": {
   "codemirror_mode": {
    "name": "ipython",
    "version": 3
   },
   "file_extension": ".py",
   "mimetype": "text/x-python",
   "name": "python",
   "nbconvert_exporter": "python",
   "pygments_lexer": "ipython3",
   "version": "3.7.4"
  }
 },
 "nbformat": 4,
 "nbformat_minor": 2
}
